{
 "cells": [
  {
   "cell_type": "code",
   "execution_count": 1,
   "id": "9112f981",
   "metadata": {},
   "outputs": [
    {
     "name": "stderr",
     "output_type": "stream",
     "text": [
      "2023-04-14 08:36:01.434029: I tensorflow/core/platform/cpu_feature_guard.cc:193] This TensorFlow binary is optimized with oneAPI Deep Neural Network Library (oneDNN) to use the following CPU instructions in performance-critical operations:  AVX2 AVX512F AVX512_VNNI FMA\n",
      "To enable them in other operations, rebuild TensorFlow with the appropriate compiler flags.\n",
      "2023-04-14 08:36:01.787399: I tensorflow/core/util/port.cc:104] oneDNN custom operations are on. You may see slightly different numerical results due to floating-point round-off errors from different computation orders. To turn them off, set the environment variable `TF_ENABLE_ONEDNN_OPTS=0`.\n",
      "2023-04-14 08:36:02.733669: W tensorflow/compiler/xla/stream_executor/platform/default/dso_loader.cc:64] Could not load dynamic library 'libnvinfer.so.7'; dlerror: libnvinfer.so.7: cannot open shared object file: No such file or directory; LD_LIBRARY_PATH: /usr/local/cuda-11.0/lib64:/usr/local/cuda-11.0/lib64\n",
      "2023-04-14 08:36:02.733776: W tensorflow/compiler/xla/stream_executor/platform/default/dso_loader.cc:64] Could not load dynamic library 'libnvinfer_plugin.so.7'; dlerror: libnvinfer_plugin.so.7: cannot open shared object file: No such file or directory; LD_LIBRARY_PATH: /usr/local/cuda-11.0/lib64:/usr/local/cuda-11.0/lib64\n",
      "2023-04-14 08:36:02.733783: W tensorflow/compiler/tf2tensorrt/utils/py_utils.cc:38] TF-TRT Warning: Cannot dlopen some TensorRT libraries. If you would like to use Nvidia GPU with TensorRT, please make sure the missing libraries mentioned above are installed properly.\n",
      "2023-04-14 08:36:04.424810: W tensorflow/compiler/xla/stream_executor/platform/default/dso_loader.cc:64] Could not load dynamic library 'libcusolver.so.11'; dlerror: libcusolver.so.11: cannot open shared object file: No such file or directory; LD_LIBRARY_PATH: /usr/local/cuda-11.0/lib64:/usr/local/cuda-11.0/lib64\n",
      "2023-04-14 08:36:04.425801: W tensorflow/compiler/xla/stream_executor/platform/default/dso_loader.cc:64] Could not load dynamic library 'libcudnn.so.8'; dlerror: libcudnn.so.8: cannot open shared object file: No such file or directory; LD_LIBRARY_PATH: /usr/local/cuda-11.0/lib64:/usr/local/cuda-11.0/lib64\n",
      "2023-04-14 08:36:04.425824: W tensorflow/core/common_runtime/gpu/gpu_device.cc:1934] Cannot dlopen some GPU libraries. Please make sure the missing libraries mentioned above are installed properly if you would like to use GPU. Follow the guide at https://www.tensorflow.org/install/gpu for how to download and setup the required libraries for your platform.\n",
      "Skipping registering GPU devices...\n",
      "2023-04-14 08:36:04.427468: I tensorflow/core/platform/cpu_feature_guard.cc:193] This TensorFlow binary is optimized with oneAPI Deep Neural Network Library (oneDNN) to use the following CPU instructions in performance-critical operations:  AVX2 AVX512F AVX512_VNNI FMA\n",
      "To enable them in other operations, rebuild TensorFlow with the appropriate compiler flags.\n"
     ]
    }
   ],
   "source": [
    "%load_ext autoreload\n",
    "%autoreload 2\n",
    "\n",
    "import sys\n",
    "sys.path.append(\"src/\")\n",
    "import operator\n",
    "from importlib import reload\n",
    "import src.preprocessing.data_loading as data_loading\n",
    "import models.experiment as experiment\n",
    "import models.rnn as rnn\n",
    "from matplotlib import pyplot as plt\n",
    "from tensorflow import keras\n",
    "import pandas as pd\n",
    "import itertools\n",
    "from functools import partial\n",
    "import pdb\n",
    "import pickle\n",
    "import base64\n",
    "import os\n",
    "import gc\n",
    "import numpy as np\n",
    "import matplotlib.pyplot as plt\n",
    "from numpy.random import *\n",
    "\n",
    "from analysis.hit_rate_analysis import (\n",
    "    seq_contains_mdm2_motif,\n",
    "    find_mdm2_motif,\n",
    ")\n",
    "from utils.utils import seed_everything\n",
    "from models.rnn import multi_channel_mse\n",
    "from IPython.utils import io\n",
    "from tqdm import tqdm"
   ]
  },
  {
   "cell_type": "code",
   "execution_count": 2,
   "id": "6d085c46",
   "metadata": {},
   "outputs": [
    {
     "name": "stderr",
     "output_type": "stream",
     "text": [
      "/home/yitongt/ml_phage/src/preprocessing/y_representation.py:66: RuntimeWarning: Precision loss occurred in moment calculation due to catastrophic cancellation. This occurs when the data are nearly identical. Results may be unreliable.\n",
      "  lib[\"pvalues\"] = sp.stats.ttest_ind(\n",
      "2023-04-14 08:36:11.779302: W tensorflow/core/common_runtime/gpu/gpu_device.cc:1934] Cannot dlopen some GPU libraries. Please make sure the missing libraries mentioned above are installed properly if you would like to use GPU. Follow the guide at https://www.tensorflow.org/install/gpu for how to download and setup the required libraries for your platform.\n",
      "Skipping registering GPU devices...\n"
     ]
    },
    {
     "name": "stdout",
     "output_type": "stream",
     "text": [
      "WARNING:tensorflow:From /home/yitongt/ml_phage/src/utils/utils.py:28: The name tf.keras.backend.set_session is deprecated. Please use tf.compat.v1.keras.backend.set_session instead.\n",
      "\n"
     ]
    }
   ],
   "source": [
    "protein_of_interest = \"MDM2\"\n",
    "other_protein = \"12ca5\"\n",
    "\n",
    "X, y_raw, peptides, FEATURE_LIST = data_loading.build_joint_dataset(\n",
    "    er_datafile =f\"{protein_of_interest}_merged_ER.csv\",\n",
    "    volcano_datafile=\"12ca5-MDM2-mCDH2-R3.csv\",\n",
    "    protein_of_interest=protein_of_interest, \n",
    "    other_protein=other_protein\n",
    ")\n",
    "seed_everything(0)\n"
   ]
  },
  {
   "attachments": {},
   "cell_type": "markdown",
   "id": "6d656672",
   "metadata": {},
   "source": [
    "# Shapely Analysis"
   ]
  },
  {
   "cell_type": "code",
   "execution_count": 3,
   "id": "f5c2712a",
   "metadata": {},
   "outputs": [],
   "source": [
    "\n",
    "results = experiment.Experiment().run_cross_validation_experiment(\n",
    "    X=X,\n",
    "    y=y_raw,\n",
    "    model_architecture=partial(rnn.ThreeChannelRegressionRNN_gelu, loss=multi_channel_mse, width=128),\n",
    "    optimizer=partial(\n",
    "        keras.optimizers.Adam, learning_rate=0.0005, weight_decay=0.5\n",
    "    ),\n",
    "    n_splits=10,\n",
    "    load_trained_model=True,\n",
    "    model_save_name=\"final_models/Joint_loss_model.h5\",\n",
    "    normalize=True,\n",
    "    batch_size=128,\n",
    "    num_epochs=5,\n",
    ")\n",
    "mdm2_models = [result.trained_model for result in results]\n"
   ]
  },
  {
   "cell_type": "code",
   "execution_count": 4,
   "id": "bd5dd114",
   "metadata": {},
   "outputs": [
    {
     "name": "stderr",
     "output_type": "stream",
     "text": [
      "/home/yitongt/.conda/envs/subcell_loc/lib/python3.9/site-packages/tqdm/auto.py:22: TqdmWarning: IProgress not found. Please update jupyter and ipywidgets. See https://ipywidgets.readthedocs.io/en/stable/user_install.html\n",
      "  from .autonotebook import tqdm as notebook_tqdm\n"
     ]
    }
   ],
   "source": [
    "from analysis.shapley_additive_analysis import shapley_analysis, INVESTIGATION_TYPE\n",
    "from tqdm import tqdm\n",
    "\n",
    "all_targets = list(zip(X, peptides))\n",
    "\n",
    "\n",
    "def investigate_individual_peptide(\n",
    "    peptide_seq,\n",
    "    model,\n",
    "    show_plot=True,\n",
    "    num_background_samples=200,\n",
    "    num_perturbation_samples=2000,\n",
    "):\n",
    "    print(\n",
    "        f\"{peptide_seq} is in the dataset as {y_raw[[idx for idx, x in enumerate(peptides) if x == peptide_seq][0]]}\"\n",
    "    )\n",
    "    attribution = shapley_analysis(\n",
    "        model,\n",
    "        X,\n",
    "        [x for x in all_targets if x[1] == peptide_seq],  # Known binder\n",
    "        investigation_type=INVESTIGATION_TYPE.BY_AMINO_ACID,\n",
    "        num_background_samples=num_background_samples,\n",
    "        num_perturbation_samples=num_perturbation_samples,\n",
    "        aa_feature_dim=len(FEATURE_LIST),\n",
    "        show_plot=show_plot,\n",
    "    )\n",
    "    return attribution\n"
   ]
  },
  {
   "cell_type": "code",
   "execution_count": 5,
   "id": "b302586e",
   "metadata": {},
   "outputs": [],
   "source": [
    "def calculate_aggregated_shap_values(\n",
    "    aligned_peptides,\n",
    "    mdm2_models,\n",
    "    # residue_labels=[\"*\", \"F\", \"*\", \"*\", \"Hydrophobe\", \"Hydrophobe\", \"*\"],\n",
    "    # pickle_filename=\"mdm2_shap_value_comparison.pickle\",\n",
    "    finished_shap_values=\"mdm2_shap_values.csv\",\n",
    "    left_boundary_increase=1,\n",
    "    right_boundary_increase=1,\n",
    "):\n",
    "    def define_range(\n",
    "        match,\n",
    "        array,\n",
    "        blank,\n",
    "    ):\n",
    "        \"\"\"\n",
    "        We endevor to look at space before and after the match\n",
    "        (to expand the analysis past just the motif)\n",
    "        but this requires us gracefully handle when the motif is either\n",
    "        at the beginning or end of the peptide.\n",
    "        \"\"\"\n",
    "        left_of_motif_array = []\n",
    "        for left_idx in range(-left_boundary_increase, 0):\n",
    "            left_of_motif_array.append(\n",
    "                blank if (match[0] + left_idx) < 0 else array[match[0] + left_idx]\n",
    "            )\n",
    "\n",
    "        right_of_motif_array = []\n",
    "        for right_idx in range(0, right_boundary_increase):\n",
    "            right_of_motif_array.append(\n",
    "                blank\n",
    "                if (match[1] + right_idx) >= len(array)\n",
    "                else array[match[1] + right_idx]\n",
    "            )\n",
    "        return [\n",
    "            *left_of_motif_array,\n",
    "            *array[match[0] : match[1]],\n",
    "            *right_of_motif_array,\n",
    "        ]\n",
    "\n",
    "    if not os.path.isfile(finished_shap_values):\n",
    "        pd.DataFrame({\"peptide\": [], \"collected_shap_values\": []}).to_csv(\n",
    "            finished_shap_values\n",
    "        )\n",
    "    finished_df = pd.read_csv(finished_shap_values, index_col=0)\n",
    "    for idx, (peptide_of_interest, match) in tqdm(\n",
    "        enumerate(aligned_peptides), total=len(aligned_peptides)\n",
    "    ):\n",
    "        collected_shap_values = []\n",
    "        if peptide_of_interest in finished_df[\"peptide\"].tolist():\n",
    "            print(\"we are skipping! \", peptide_of_interest)\n",
    "            continue\n",
    "        for model in mdm2_models:\n",
    "            with io.capture_output() as captured:\n",
    "                attribution = investigate_individual_peptide(\n",
    "                    peptide_seq=peptide_of_interest,\n",
    "                    model=model,\n",
    "                    show_plot=False,\n",
    "                    num_background_samples=100,\n",
    "                    num_perturbation_samples=1000,\n",
    "                )\n",
    "                collected_shap_values.append(\n",
    "                    (\n",
    "                        define_range(match, attribution, blank=0),\n",
    "                        define_range(match, peptide_of_interest, blank=\" \")\n",
    "                    )\n",
    "                )\n",
    "        serialized_data = pickle.dumps(collected_shap_values)\n",
    "        encoded_data = base64.b64encode(serialized_data).decode()\n",
    "        finished_df = finished_df.append(\n",
    "            pd.Series(\n",
    "                {\n",
    "                    \"peptide\": peptide_of_interest,\n",
    "                    \"collected_shap_values\": encoded_data,\n",
    "                }\n",
    "            ),\n",
    "            ignore_index=True\n",
    "        )\n",
    "        finished_df.to_csv(finished_shap_values)\n",
    "        gc.collect()"
   ]
  },
  {
   "cell_type": "code",
   "execution_count": 6,
   "id": "bae78ee9",
   "metadata": {},
   "outputs": [],
   "source": [
    "import pandas as pd\n",
    "mdm2_motif_peptides = [\n",
    "    (peptide, find_mdm2_motif(peptide).span())\n",
    "    for peptide in peptides\n",
    "    if seq_contains_mdm2_motif(peptide)\n",
    "]\n",
    "\n",
    "# This takes ~30 hours, so we are just going to pull from the saved results\n",
    "# calculate_aggregated_shap_values(\n",
    "#     aligned_peptides=mdm2_motif_peptides,\n",
    "#     mdm2_models=mdm2_models,\n",
    "#     finished_shap_values=\"mdm2_shap_values.csv\",\n",
    "# )\n"
   ]
  },
  {
   "attachments": {},
   "cell_type": "markdown",
   "id": "7406e984",
   "metadata": {},
   "source": [
    "## Time to plot results"
   ]
  },
  {
   "cell_type": "code",
   "execution_count": 7,
   "id": "ad12fc72",
   "metadata": {},
   "outputs": [],
   "source": [
    "finished_shap_values=\"mdm2_shap_values.csv\"\n",
    "residue_labels=[\"*\", \"F\", \"*\", \"*\", \"Hydrophobe\", \"Hydrophobe\", \"*\"]\n",
    "pickle_filename=\"mdm2_shap_value_comparison.pickle\"\n",
    "title = \"Aggregated Shap Values over MDM2 Motif Containing Peptides\"\n",
    "aa_to_marker = {\n",
    "    \"C\": \".\",  # point marker\n",
    "    \"Q\": \",\",  # pixel marker\n",
    "    \"E\": \"o\",  # circle marker\n",
    "    \"G\": \"v\",  # triangle_down marker\n",
    "    \"H\": \"^\",  # triangle_up marker\n",
    "    \"I\": \"<\",  # triangle_left marker\n",
    "    \"L\": \">\",  # triangle_right marker\n",
    "    \"K\": \"1\",  # tri_down marker\n",
    "    \"M\": \"2\",  # tri_up marker\n",
    "    \"F\": \"3\",  # tri_left marker\n",
    "    \"P\": \"4\",  # tri_right marker\n",
    "    \"S\": \"s\",  # square marker\n",
    "    \"T\": \"p\",  # pentagon marker\n",
    "    \"W\": \"*\",  # star marker\n",
    "    \"Y\": \"h\",  # hexagon1 marker\n",
    "    \"V\": \"H\",  # hexagon2 marker\n",
    "    \"D\": \"+\",  # plus marker\n",
    "    \"A\": \"x\",  # x marker\n",
    "    \"R\": \"D\",  # diamond marker\n",
    "    \"N\": \"d\",  # thin_diamond marker\n",
    "}\n",
    "cm = plt.get_cmap(\"inferno\")\n"
   ]
  },
  {
   "cell_type": "code",
   "execution_count": 13,
   "id": "4b2b7705",
   "metadata": {},
   "outputs": [
    {
     "name": "stdout",
     "output_type": "stream",
     "text": [
      "558\n",
      "5580\n"
     ]
    }
   ],
   "source": [
    "finished_df = pd.read_csv(finished_shap_values, index_col=0)\n",
    "decoded_shap_vals = []\n",
    "for idx, encoded_shap_val in enumerate(finished_df['collected_shap_values']):\n",
    "    try:\n",
    "        decoded_shap_vals.append(pickle.loads(base64.b64decode(encoded_shap_val)))\n",
    "    except:\n",
    "        continue\n",
    "\n",
    "# decoded_shap_vals\n",
    "# finished_df['decoded_shap_values'] = finished_df['collected_shap_values'].apply(lambda x: pickle.loads(base64.b64decode(x)))\n",
    "# # Only take the first model's output to see what that looks like...\n",
    "# finished_df['decoded_shap_values'] = finished_df['decoded_shap_values'].apply(lambda x: x[9:])\n",
    "# collected_shap_values = list(itertools.chain(*finished_df['decoded_shap_values'].tolist()))\n",
    "collected_shap_values = list(itertools.chain(*decoded_shap_vals))\n",
    "\n",
    "print(len(decoded_shap_vals))\n",
    "print(len(collected_shap_values))\n",
    "\n",
    "title = \"Aggregated Shap Values over MDM2 Motif Containing Peptides (across all 10 Models)\"\n"
   ]
  },
  {
   "cell_type": "code",
   "execution_count": 14,
   "id": "f9de8434",
   "metadata": {},
   "outputs": [],
   "source": [
    "residue_num = len(residue_labels)\n",
    "# Matrix is the list (residue idx) of dictionaries (amino acids) of list (shap_values)\n",
    "matrix = []\n",
    "\n",
    "for residue_idx in range(residue_num):\n",
    "    aa_to_shap_value_lookup = {}\n",
    "    for shap_values, peptide_str in collected_shap_values:\n",
    "        aa = peptide_str[residue_idx]\n",
    "        if aa == \" \":\n",
    "            continue\n",
    "\n",
    "        shap_val_per_aa = aa_to_shap_value_lookup.get(aa, [])\n",
    "        shap_val_per_aa.append(shap_values[residue_idx])\n",
    "        aa_to_shap_value_lookup[aa] = shap_val_per_aa\n",
    "    matrix.append(aa_to_shap_value_lookup)\n",
    "\n",
    "\n",
    "with open(pickle_filename, \"wb\") as handle:\n",
    "    pickle.dump(matrix, handle, protocol=pickle.HIGHEST_PROTOCOL)"
   ]
  },
  {
   "cell_type": "code",
   "execution_count": 15,
   "id": "e0c9f699",
   "metadata": {},
   "outputs": [
    {
     "data": {
      "text/plain": [
       "7"
      ]
     },
     "execution_count": 15,
     "metadata": {},
     "output_type": "execute_result"
    }
   ],
   "source": [
    "len(matrix)"
   ]
  },
  {
   "cell_type": "code",
   "execution_count": 16,
   "id": "0fa4ee73",
   "metadata": {},
   "outputs": [],
   "source": [
    "def get_text_positions(x_data, y_data, txt_width, txt_height):\n",
    "    text_positions = list(zip(x_data, y_data))\n",
    "    for index, (x, y) in enumerate(text_positions):\n",
    "        collision_text_positions = [\n",
    "            (idx, (x_other, y_other))\n",
    "            for idx, (x_other, y_other) in enumerate(text_positions)\n",
    "            if (\n",
    "                (abs(x_other - x) < txt_width * 2)\n",
    "                and (abs(y_other - y) < txt_height * 2)\n",
    "                and idx != index\n",
    "            )\n",
    "        ]\n",
    "        print(\"yitong\")\n",
    "        print(\"for \", index, x, y)\n",
    "        print(\"we have these collisions \", collision_text_positions)\n",
    "        for idx, i in collision_text_positions:\n",
    "            text_positions[idx] = (i[0] + 2 * txt_width, i[1])\n",
    "    return np.array(text_positions)\n"
   ]
  },
  {
   "cell_type": "code",
   "execution_count": 17,
   "id": "d960022d",
   "metadata": {},
   "outputs": [],
   "source": [
    "from matplotlib.pyplot import figure\n",
    "import scienceplots\n",
    "plt.style.use(\n",
    "    [\n",
    "        \"science\",\n",
    "    ]\n",
    ")\n"
   ]
  },
  {
   "cell_type": "code",
   "execution_count": 18,
   "id": "db88b253",
   "metadata": {},
   "outputs": [
    {
     "data": {
      "text/plain": [
       "Text(0, 0.5, 'Shap Value \\n(higher = MDM2 affinity, lower = 12ca5 affinity)')"
      ]
     },
     "execution_count": 18,
     "metadata": {},
     "output_type": "execute_result"
    },
    {
     "data": {
      "image/png": "[encoded data removed]",
      "text/plain": [
       "<Figure size 800x600 with 1 Axes>"
      ]
     },
     "metadata": {},
     "output_type": "display_data"
    }
   ],
   "source": [
    "residue_num = len(residue_labels)\n",
    "NUM_COLORS = len(aa_to_marker)\n",
    "color = [cm(1.0 * i / NUM_COLORS) for i in range(NUM_COLORS)]\n",
    "\n",
    "aa_to_marker_and_color = {\n",
    "    aa: (marker, color[idx]) for idx, (aa, marker) in enumerate(aa_to_marker.items())\n",
    "}\n",
    "\n",
    "fig, ax = plt.subplots()\n",
    "fig.set_size_inches(8, 6)\n",
    "for residue_idx, aa_to_shap_value_lookup in enumerate(matrix):\n",
    "    mean_shaps = []\n",
    "    aa_labels = []\n",
    "    for aa, shap_vals in aa_to_shap_value_lookup.items():\n",
    "        mean_shap = np.mean(shap_vals)\n",
    "        mean_shaps.append(mean_shap)\n",
    "        aa_labels.append(aa)\n",
    "        std_dev_shap = np.std(shap_vals)\n",
    "        marker, color = aa_to_marker_and_color[aa]\n",
    "        ax.errorbar(\n",
    "            x=residue_idx, y=mean_shap, yerr=std_dev_shap, fmt=marker, color=color\n",
    "        )\n",
    "    # text_positions = get_text_positions(\n",
    "    #     [residue_idx + 0.06] * len(aa_to_shap_value_lookup),\n",
    "    #     mean_shaps,\n",
    "    #     txt_width=0.11,\n",
    "    #     txt_height=0.03,\n",
    "    # )\n",
    "    # for x, y, text in zip(\n",
    "    #     text_positions[:,0], text_positions[:,1], aa_labels\n",
    "    # ):\n",
    "    for x, y, text in zip(\n",
    "        [residue_idx + 0.06] * len(aa_to_shap_value_lookup), mean_shaps, aa_labels\n",
    "    ):\n",
    "        ax.text(\n",
    "            x,\n",
    "            y,\n",
    "            text,\n",
    "            horizontalalignment=\"left\",\n",
    "            verticalalignment=\"center\",\n",
    "        )\n",
    "\n",
    "ax.set_xticks(np.arange(0, residue_num, step=1))\n",
    "ax.set_xticklabels(residue_labels)\n",
    "plt.title(title)\n",
    "plt.ylabel(\"Shap Value \\n(higher = MDM2 affinity, lower = 12ca5 affinity)\")\n"
   ]
  }
 ],
 "metadata": {
  "kernelspec": {
   "display_name": "Python 3 (ipykernel)",
   "language": "python",
   "name": "python3"
  },
  "language_info": {
   "codemirror_mode": {
    "name": "ipython",
    "version": 3
   },
   "file_extension": ".py",
   "mimetype": "text/x-python",
   "name": "python",
   "nbconvert_exporter": "python",
   "pygments_lexer": "ipython3",
   "version": "3.9.13"
  },
  "vscode": {
   "interpreter": {
    "hash": "daaa5e2e19eda12077a3b8fb6ba104f961d76f1eff6a85253d28b4762046696f"
   }
  }
 },
 "nbformat": 4,
 "nbformat_minor": 5
}
